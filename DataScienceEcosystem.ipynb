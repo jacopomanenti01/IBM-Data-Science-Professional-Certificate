{
 "cells": [
  {
   "cell_type": "markdown",
   "id": "8dc2f27e-4800-496b-940c-390c880388f7",
   "metadata": {},
   "source": [
    "# Data Science Tools and Ecosystem"
   ]
  },
  {
   "cell_type": "markdown",
   "id": "c54763d8-3d94-4a19-a174-f729df603904",
   "metadata": {},
   "source": [
    "In this notebook, Data Science Tools and Ecosystem are summarized."
   ]
  },
  {
   "cell_type": "markdown",
   "id": "a6183b07-22f2-40fa-898e-90205bae9a87",
   "metadata": {},
   "source": [
    "Some of the popular languages that Data Scientists use are:"
   ]
  },
  {
   "cell_type": "markdown",
   "id": "848ac780-6f47-4529-af23-e6775f80f598",
   "metadata": {},
   "source": [
    "1. A\n",
    "2. B\n",
    "3. C"
   ]
  },
  {
   "cell_type": "markdown",
   "id": "1b608d65-440a-44c6-8fe1-f409e843cef0",
   "metadata": {},
   "source": [
    "Some of the commonly used libraries used by Data Scientists include:"
   ]
  },
  {
   "cell_type": "markdown",
   "id": "88fc0f18-dbb2-4ef8-abfc-235ea3f2ae82",
   "metadata": {},
   "source": [
    "1. A\n",
    "2. B\n",
    "3. C"
   ]
  },
  {
   "cell_type": "markdown",
   "id": "b91fc59f-9159-4463-92d8-d92845152fb9",
   "metadata": {},
   "source": [
    "|Data Science Tools|\n",
    "|---|\n",
    "|a|\n",
    "|b|\n",
    "|c|"
   ]
  },
  {
   "cell_type": "markdown",
   "id": "1f57ba55-b8fc-46ab-bd2b-1ee057f31faa",
   "metadata": {},
   "source": [
    "### Below are a few examples of evaluating arithmetic expressions in Python."
   ]
  },
  {
   "cell_type": "code",
   "execution_count": 2,
   "id": "c7515871-b4f3-44a0-9898-233bcb2a3f40",
   "metadata": {},
   "outputs": [
    {
     "data": {
      "text/plain": [
       "17"
      ]
     },
     "execution_count": 2,
     "metadata": {},
     "output_type": "execute_result"
    }
   ],
   "source": [
    "# this a simple arithmetic expression to mutiply then add integers\n",
    "(3*4)+5"
   ]
  },
  {
   "cell_type": "code",
   "execution_count": 3,
   "id": "c0eb6b2e-742e-4af0-af2b-11ab9f65d7f0",
   "metadata": {},
   "outputs": [
    {
     "data": {
      "text/plain": [
       "3.3333333333333335"
      ]
     },
     "execution_count": 3,
     "metadata": {},
     "output_type": "execute_result"
    }
   ],
   "source": [
    "# this will convert 200 minutes to hours by diving by 60\n",
    "200/60"
   ]
  },
  {
   "cell_type": "markdown",
   "id": "f9f44c6d-9f1d-42ed-9a88-a121c7c6593a",
   "metadata": {},
   "source": [
    "**Objectives**:\n",
    "- a\n",
    "- b\n",
    "- c\n",
    "- d\n",
    "- f"
   ]
  },
  {
   "cell_type": "markdown",
   "id": "11433ff3-a3b0-462b-bd22-3373415bf6f0",
   "metadata": {},
   "source": [
    "## Author\n",
    "Jacopo"
   ]
  },
  {
   "cell_type": "code",
   "execution_count": null,
   "id": "409e00c5-1f90-487a-b153-baa722825303",
   "metadata": {},
   "outputs": [],
   "source": []
  }
 ],
 "metadata": {
  "kernelspec": {
   "display_name": "Python 3 (ipykernel)",
   "language": "python",
   "name": "python3"
  },
  "language_info": {
   "codemirror_mode": {
    "name": "ipython",
    "version": 3
   },
   "file_extension": ".py",
   "mimetype": "text/x-python",
   "name": "python",
   "nbconvert_exporter": "python",
   "pygments_lexer": "ipython3",
   "version": "3.11.7"
  }
 },
 "nbformat": 4,
 "nbformat_minor": 5
}
